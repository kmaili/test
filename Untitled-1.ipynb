{
 "cells": [
  {
   "cell_type": "code",
   "execution_count": 1,
   "metadata": {},
   "outputs": [],
   "source": [
    "import requests\n",
    "import json"
   ]
  },
  {
   "cell_type": "code",
   "execution_count": 8,
   "metadata": {},
   "outputs": [],
   "source": [
    "\n",
    "auth = (\"zijian\", \"AjaxPSV\")"
   ]
  },
  {
   "cell_type": "code",
   "execution_count": 9,
   "metadata": {},
   "outputs": [
    {
     "data": {
      "text/plain": [
       "[{'account': {'user_id': 'Zijian59165009',\n",
       "   'login': 'wangzijian75012@gmail.com',\n",
       "   'password': 'AjaxPSV2022',\n",
       "   'ip': 'http://54.36.177.119:4450',\n",
       "   'media': 'twitter',\n",
       "   'cookie': [{'domain': '.twitter.com',\n",
       "     'expiry': 1667398402,\n",
       "     'httpOnly': True,\n",
       "     'name': 'att',\n",
       "     'path': '/',\n",
       "     'sameSite': 'None',\n",
       "     'secure': True,\n",
       "     'value': '1-6VVxYrMbIIGWChnTnGkMPVKIjr3gVRLlIwB4Q8R0'},\n",
       "    {'domain': '.twitter.com',\n",
       "     'expiry': 1698848002,\n",
       "     'httpOnly': False,\n",
       "     'name': 'twid',\n",
       "     'path': '/',\n",
       "     'sameSite': 'None',\n",
       "     'secure': True,\n",
       "     'value': 'u%3D1209832421736304640'},\n",
       "    {'domain': '.twitter.com',\n",
       "     'expiry': 1701526401,\n",
       "     'httpOnly': False,\n",
       "     'name': 'ct0',\n",
       "     'path': '/',\n",
       "     'sameSite': 'Lax',\n",
       "     'secure': True,\n",
       "     'value': 'c8bc1731c7a28b3ee1af88a31695746f217ebb6d0e9571e19aaf08ad323aee418d547acc61e9e7039a8035e5542e894ff93bd3e1fec1f93abe986846e50a7afde78197b33ab72097d28cb47730c4e81f'},\n",
       "    {'domain': '.twitter.com',\n",
       "     'expiry': 1701526401,\n",
       "     'httpOnly': True,\n",
       "     'name': 'auth_token',\n",
       "     'path': '/',\n",
       "     'sameSite': 'None',\n",
       "     'secure': True,\n",
       "     'value': 'ca82964a86824d5b70c232e016204ac51ffeaad4'},\n",
       "    {'domain': '.twitter.com',\n",
       "     'httpOnly': True,\n",
       "     'name': '_twitter_sess',\n",
       "     'path': '/',\n",
       "     'secure': True,\n",
       "     'value': 'BAh7CSIKZmxhc2hJQzonQWN0aW9uQ29udHJvbGxlcjo6Rmxhc2g6OkZsYXNo%250ASGFzaHsABjoKQHVzZWR7ADoPY3JlYXRlZF9hdGwrCP2ViTOEAToMY3NyZl9p%250AZCIlMDFkOTJiNWJlNmUxMTQ1OTEwZWU5NzZiMmEzOTdiOWU6B2lkIiU4Mjhk%250AYWEzNGY2NGY1ZjFmM2ZlOGM5NjVjZmMzNjkwNQ%253D%253D--a28fbf87521ffb28c2189bfe290d737d43fef067'},\n",
       "    {'domain': 'twitter.com',\n",
       "     'expiry': 1667398365,\n",
       "     'httpOnly': False,\n",
       "     'name': '_sl',\n",
       "     'path': '/',\n",
       "     'secure': True,\n",
       "     'value': '1'},\n",
       "    {'domain': '.twitter.com',\n",
       "     'expiry': 1701526401,\n",
       "     'httpOnly': True,\n",
       "     'name': 'kdt',\n",
       "     'path': '/',\n",
       "     'secure': True,\n",
       "     'value': 'vEMtqmcWg0YpWKDLCBLW5OZJbocI6EDtCtxkxtCc'},\n",
       "    {'domain': '.twitter.com',\n",
       "     'expiry': 1667322765,\n",
       "     'httpOnly': False,\n",
       "     'name': 'gt',\n",
       "     'path': '/',\n",
       "     'secure': True,\n",
       "     'value': '1587447555931230211'},\n",
       "    {'domain': '.twitter.com',\n",
       "     'expiry': 1701526364,\n",
       "     'httpOnly': False,\n",
       "     'name': 'guest_id',\n",
       "     'path': '/',\n",
       "     'sameSite': 'None',\n",
       "     'secure': True,\n",
       "     'value': 'v1%3A166731196449064550'}],\n",
       "   'cookie_start': '2022-11-01T15:13:28.252746+01:00',\n",
       "   'cookie_expected_end': '2022-11-01T18:13:28.252746+01:00',\n",
       "   'cookie_real_end': '2022-10-28 15:40:03',\n",
       "   'modified_at': '2022-10-17T11:48:05.848144Z'},\n",
       "  'available': True,\n",
       "  'should_login': True}]"
      ]
     },
     "execution_count": 9,
     "metadata": {},
     "output_type": "execute_result"
    }
   ],
   "source": [
    "dauth_url = \"http://149.202.70.238:8011/api/ip_accounts/get_available_accounts/\"\n",
    "requests.post(\n",
    "                dauth_url,\n",
    "                auth=auth,\n",
    "                data={\"media\": \"twitter\", \"nb_jobs\": 1},\n",
    "                verify=False,\n",
    "            ).json()"
   ]
  },
  {
   "cell_type": "markdown",
   "metadata": {},
   "source": [
    "### get_available_accounts"
   ]
  },
  {
   "cell_type": "code",
   "execution_count": 10,
   "metadata": {},
   "outputs": [],
   "source": [
    "auth = (\"admin\", \"admin\")"
   ]
  },
  {
   "cell_type": "code",
   "execution_count": 12,
   "metadata": {},
   "outputs": [
    {
     "data": {
      "text/plain": [
       "[{'account': {'user_id': 'fourindatak',\n",
       "   'login': 'kaisensdata@inbox.lv',\n",
       "   'password': '4indatakaisensdata',\n",
       "   'ip': 'http://54.36.177.119:4450',\n",
       "   'media': 'twitter',\n",
       "   'cookie': [{'domain': '.twitter.com',\n",
       "     'expiry': 1667400551,\n",
       "     'httpOnly': True,\n",
       "     'name': 'att',\n",
       "     'path': '/',\n",
       "     'sameSite': 'None',\n",
       "     'secure': True,\n",
       "     'value': '1-YrsPen9DZWZK8RkXUL3PJg5EZacgTQcnETO8g32J'},\n",
       "    {'domain': '.twitter.com',\n",
       "     'expiry': 1701528551,\n",
       "     'httpOnly': False,\n",
       "     'name': 'ct0',\n",
       "     'path': '/',\n",
       "     'sameSite': 'Lax',\n",
       "     'secure': True,\n",
       "     'value': '14ef679cb20ffc7fd0e9a9e1266e9fa8e65b4eb49f6ec909e4307bdcff653f66fd7bc840fc91db1fa13c662df30d4ec51ddfe473500fd2b1f7aa62c18c192fccbad95d2f5c35070189fce587f6c78146'},\n",
       "    {'domain': '.twitter.com',\n",
       "     'expiry': 1701528551,\n",
       "     'httpOnly': False,\n",
       "     'name': 'twid',\n",
       "     'path': '/',\n",
       "     'sameSite': 'None',\n",
       "     'secure': True,\n",
       "     'value': '\"u=1448355375753875462\"'},\n",
       "    {'domain': '.twitter.com',\n",
       "     'expiry': 1701528551,\n",
       "     'httpOnly': True,\n",
       "     'name': 'auth_token',\n",
       "     'path': '/',\n",
       "     'sameSite': 'None',\n",
       "     'secure': True,\n",
       "     'value': '8092072ba3ba01d8c06e9310f2dd2454ff27ebf8'},\n",
       "    {'domain': '.twitter.com',\n",
       "     'httpOnly': True,\n",
       "     'name': '_twitter_sess',\n",
       "     'path': '/',\n",
       "     'secure': True,\n",
       "     'value': 'BAh7CSIKZmxhc2hJQzonQWN0aW9uQ29udHJvbGxlcjo6Rmxhc2g6OkZsYXNo%250ASGFzaHsABjoKQHVzZWR7ADoPY3JlYXRlZF9hdGwrCFFgqjOEAToMY3NyZl9p%250AZCIlMTE1MTQwODUyMmQxZmRjNjFlYTBmOWM0NmY3Y2FmYjA6B2lkIiU3ZGVh%250AZmM1NDEwZWQ5MDNmZTYzNDBkMzJiODA2MmRkMA%253D%253D--79a1bc3f3ecabe591c84ef8655ba1fbd903289ea'},\n",
       "    {'domain': '.twitter.com',\n",
       "     'expiry': 1701528551,\n",
       "     'httpOnly': True,\n",
       "     'name': 'kdt',\n",
       "     'path': '/',\n",
       "     'secure': True,\n",
       "     'value': 'bmPpvglDHcCCxUo6ZVLPYtEpa1O4tx6813prHKxC'},\n",
       "    {'domain': '.twitter.com',\n",
       "     'expiry': 1667324914,\n",
       "     'httpOnly': False,\n",
       "     'name': 'gt',\n",
       "     'path': '/',\n",
       "     'secure': True,\n",
       "     'value': '1587456569502990336'},\n",
       "    {'domain': '.twitter.com',\n",
       "     'expiry': 1701528513,\n",
       "     'httpOnly': False,\n",
       "     'name': 'guest_id',\n",
       "     'path': '/',\n",
       "     'sameSite': 'None',\n",
       "     'secure': True,\n",
       "     'value': 'v1%3A166731411332922525'}],\n",
       "   'cookie_start': '2022-11-01T15:49:17.922907+01:00',\n",
       "   'cookie_expected_end': '2022-11-01T18:49:17.922907+01:00',\n",
       "   'cookie_real_end': '2022-11-01 07:07:15',\n",
       "   'modified_at': '2022-10-13T12:28:03Z'},\n",
       "  'available': True,\n",
       "  'should_login': True}]"
      ]
     },
     "execution_count": 12,
     "metadata": {},
     "output_type": "execute_result"
    }
   ],
   "source": [
    "dauth_url = \"http://127.0.0.1:8011/api/ip_accounts/get_available_accounts/\"\n",
    "requests.post(\n",
    "                dauth_url,\n",
    "                auth=auth,\n",
    "                data={\"media\": \"twitter\", \"nb_jobs\": 1},\n",
    "                verify=False,\n",
    "            ).json()"
   ]
  },
  {
   "cell_type": "markdown",
   "metadata": {},
   "source": [
    "### get_account_in_using"
   ]
  },
  {
   "cell_type": "code",
   "execution_count": 14,
   "metadata": {},
   "outputs": [
    {
     "data": {
      "text/plain": [
       "[]"
      ]
     },
     "execution_count": 14,
     "metadata": {},
     "output_type": "execute_result"
    }
   ],
   "source": [
    "dauth_url = \"http://127.0.0.1:8011/api/ip_accounts/get_account_in_using/\"\n",
    "requests.post(\n",
    "                dauth_url,\n",
    "                auth=auth,\n",
    "                data={\"media\": \"1\"},\n",
    "                verify=False,\n",
    "            ).json()\n"
   ]
  },
  {
   "cell_type": "markdown",
   "metadata": {},
   "source": [
    "### get_cookie_by_account"
   ]
  },
  {
   "cell_type": "code",
   "execution_count": 21,
   "metadata": {},
   "outputs": [
    {
     "data": {
      "text/plain": [
       "'[{\"domain\": \".twitter.com\", \"expiry\": 1667400551, \"httpOnly\": true, \"name\": \"att\", \"path\": \"/\", \"sameSite\": \"None\", \"secure\": true, \"value\": \"1-YrsPen9DZWZK8RkXUL3PJg5EZacgTQcnETO8g32J\"}, {\"domain\": \".twitter.com\", \"expiry\": 1701528551, \"httpOnly\": false, \"name\": \"ct0\", \"path\": \"/\", \"sameSite\": \"Lax\", \"secure\": true, \"value\": \"14ef679cb20ffc7fd0e9a9e1266e9fa8e65b4eb49f6ec909e4307bdcff653f66fd7bc840fc91db1fa13c662df30d4ec51ddfe473500fd2b1f7aa62c18c192fccbad95d2f5c35070189fce587f6c78146\"}, {\"domain\": \".twitter.com\", \"expiry\": 1701528551, \"httpOnly\": false, \"name\": \"twid\", \"path\": \"/\", \"sameSite\": \"None\", \"secure\": true, \"value\": \"\\\\\"u=1448355375753875462\\\\\"\"}, {\"domain\": \".twitter.com\", \"expiry\": 1701528551, \"httpOnly\": true, \"name\": \"auth_token\", \"path\": \"/\", \"sameSite\": \"None\", \"secure\": true, \"value\": \"8092072ba3ba01d8c06e9310f2dd2454ff27ebf8\"}, {\"domain\": \".twitter.com\", \"httpOnly\": true, \"name\": \"_twitter_sess\", \"path\": \"/\", \"secure\": true, \"value\": \"BAh7CSIKZmxhc2hJQzonQWN0aW9uQ29udHJvbGxlcjo6Rmxhc2g6OkZsYXNo%250ASGFzaHsABjoKQHVzZWR7ADoPY3JlYXRlZF9hdGwrCFFgqjOEAToMY3NyZl9p%250AZCIlMTE1MTQwODUyMmQxZmRjNjFlYTBmOWM0NmY3Y2FmYjA6B2lkIiU3ZGVh%250AZmM1NDEwZWQ5MDNmZTYzNDBkMzJiODA2MmRkMA%253D%253D--79a1bc3f3ecabe591c84ef8655ba1fbd903289ea\"}, {\"domain\": \".twitter.com\", \"expiry\": 1701528551, \"httpOnly\": true, \"name\": \"kdt\", \"path\": \"/\", \"secure\": true, \"value\": \"bmPpvglDHcCCxUo6ZVLPYtEpa1O4tx6813prHKxC\"}, {\"domain\": \".twitter.com\", \"expiry\": 1667324914, \"httpOnly\": false, \"name\": \"gt\", \"path\": \"/\", \"secure\": true, \"value\": \"1587456569502990336\"}, {\"domain\": \".twitter.com\", \"expiry\": 1701528513, \"httpOnly\": false, \"name\": \"guest_id\", \"path\": \"/\", \"sameSite\": \"None\", \"secure\": true, \"value\": \"v1%3A166731411332922525\"}]'"
      ]
     },
     "execution_count": 21,
     "metadata": {},
     "output_type": "execute_result"
    }
   ],
   "source": [
    "\n",
    "dauth_url = \"http://127.0.0.1:8011/api/ip_accounts/get_cookie_by_account/\"\n",
    "requests.post(\n",
    "                dauth_url,\n",
    "                auth=auth,\n",
    "                data={\"user_id\": \"fourindatak\"},\n",
    "                verify=False,\n",
    "            ).json()"
   ]
  },
  {
   "cell_type": "markdown",
   "metadata": {},
   "source": [
    "### get_invalid_accounts"
   ]
  },
  {
   "cell_type": "code",
   "execution_count": 20,
   "metadata": {},
   "outputs": [
    {
     "data": {
      "text/plain": [
       "[]"
      ]
     },
     "execution_count": 20,
     "metadata": {},
     "output_type": "execute_result"
    }
   ],
   "source": [
    "dauth_url = \"http://127.0.0.1:8011/api/ip_accounts/get_invalid_accounts/\"\n",
    "requests.post(\n",
    "                dauth_url,\n",
    "                auth=auth,\n",
    "                data={\"media\": \"1\"},\n",
    "                verify=False,\n",
    "            ).json()"
   ]
  },
  {
   "cell_type": "code",
   "execution_count": 23,
   "metadata": {},
   "outputs": [],
   "source": [
    "\n",
    "dauth_url = \"http://127.0.0.1:8011/api/ip_accounts/get_available_accounts/\"\n",
    "res = requests.post(\n",
    "                dauth_url,\n",
    "                auth=auth,\n",
    "                data={\"media\": \"twitter\", \"nb_jobs\": 1},\n",
    "                verify=False,\n",
    "            ).json()"
   ]
  },
  {
   "cell_type": "code",
   "execution_count": 24,
   "metadata": {},
   "outputs": [
    {
     "data": {
      "text/plain": [
       "[{'account': {'user_id': 'EnzoPerez1375',\n",
       "   'login': 'perez1375@mailfence.com',\n",
       "   'password': 'AjaxPSV2022',\n",
       "   'ip': 'http://141.94.246.237:4450',\n",
       "   'media': 'twitter',\n",
       "   'cookie': [{'domain': '.twitter.com',\n",
       "     'expiry': 1667402432,\n",
       "     'httpOnly': True,\n",
       "     'name': 'att',\n",
       "     'path': '/',\n",
       "     'sameSite': 'None',\n",
       "     'secure': True,\n",
       "     'value': '1-XoLov9SMQ13INX49yqqD5WlJuSjzYz1LWHrfJIjS'},\n",
       "    {'domain': '.twitter.com',\n",
       "     'expiry': 1701530431,\n",
       "     'httpOnly': False,\n",
       "     'name': 'ct0',\n",
       "     'path': '/',\n",
       "     'sameSite': 'Lax',\n",
       "     'secure': True,\n",
       "     'value': 'a4a825d1566eae07356255b95f70f085cd8aa87d46f890f2843a7460752c3e5df543b266794772232dcf77b10f998145297b42a5c09df27e9591d4a94bc929b1d049f01fe0eb18098c11e683564171e5'},\n",
       "    {'domain': '.twitter.com',\n",
       "     'expiry': 1701530431,\n",
       "     'httpOnly': False,\n",
       "     'name': 'twid',\n",
       "     'path': '/',\n",
       "     'sameSite': 'None',\n",
       "     'secure': True,\n",
       "     'value': '\"u=1486080930179690497\"'},\n",
       "    {'domain': '.twitter.com',\n",
       "     'expiry': 1701530431,\n",
       "     'httpOnly': True,\n",
       "     'name': 'auth_token',\n",
       "     'path': '/',\n",
       "     'sameSite': 'None',\n",
       "     'secure': True,\n",
       "     'value': '3c6e80c8de17c03c0e8bf9d91e66c88307b47760'},\n",
       "    {'domain': '.twitter.com',\n",
       "     'httpOnly': True,\n",
       "     'name': '_twitter_sess',\n",
       "     'path': '/',\n",
       "     'secure': True,\n",
       "     'value': 'BAh7CSIKZmxhc2hJQzonQWN0aW9uQ29udHJvbGxlcjo6Rmxhc2g6OkZsYXNo%250ASGFzaHsABjoKQHVzZWR7ADoPY3JlYXRlZF9hdGwrCGsOxzOEAToMY3NyZl9p%250AZCIlZjFjMGFhZWFlMDUzNDIxOTUzOGFhYWQ5MGFmMTk4OTg6B2lkIiUwZDUw%250AM2U5Zjg1ZDY0MGJmNmYxZTYzOWEzMmNkYTA5Yw%253D%253D--64fdf7bb0f0c29548607a2ec302b9fb3f160fd5c'},\n",
       "    {'domain': '.twitter.com',\n",
       "     'expiry': 1701530431,\n",
       "     'httpOnly': True,\n",
       "     'name': 'kdt',\n",
       "     'path': '/',\n",
       "     'secure': True,\n",
       "     'value': '2x5sBtdzsaU1oUof5OuXMrjfVqmKPCQaFZ4v4F8E'},\n",
       "    {'domain': '.twitter.com',\n",
       "     'expiry': 1667326793,\n",
       "     'httpOnly': False,\n",
       "     'name': 'gt',\n",
       "     'path': '/',\n",
       "     'secure': True,\n",
       "     'value': '1587464451908947968'},\n",
       "    {'domain': '.twitter.com',\n",
       "     'expiry': 1701530392,\n",
       "     'httpOnly': False,\n",
       "     'name': 'guest_id',\n",
       "     'path': '/',\n",
       "     'sameSite': 'None',\n",
       "     'secure': True,\n",
       "     'value': 'v1%3A166731599216266276'}],\n",
       "   'cookie_start': '2022-11-01T16:20:38.285287+01:00',\n",
       "   'cookie_expected_end': '2022-11-01T19:20:38.285287+01:00',\n",
       "   'cookie_real_end': '2022-11-01 07:07:16',\n",
       "   'modified_at': '2022-10-18T12:38:08Z'},\n",
       "  'available': True,\n",
       "  'should_login': True}]"
      ]
     },
     "execution_count": 24,
     "metadata": {},
     "output_type": "execute_result"
    }
   ],
   "source": [
    "res"
   ]
  },
  {
   "cell_type": "code",
   "execution_count": null,
   "metadata": {},
   "outputs": [],
   "source": [
    "\n",
    "dauth_url = \"http://127.0.0.1:8011/api/ip_accounts/get_cookies_by_login/\"\n",
    "requests.post(\n",
    "                dauth_url,\n",
    "                auth=auth,\n",
    "                data={\"accounts_available\":res, \"nb_jobs\":\"1\", \"media_name\":\"twitter\"},\n",
    "                verify=False,\n",
    "            ).json()"
   ]
  }
 ],
 "metadata": {
  "kernelspec": {
   "display_name": "Python 3.8.8 ('base')",
   "language": "python",
   "name": "python3"
  },
  "language_info": {
   "codemirror_mode": {
    "name": "ipython",
    "version": 3
   },
   "file_extension": ".py",
   "mimetype": "text/x-python",
   "name": "python",
   "nbconvert_exporter": "python",
   "pygments_lexer": "ipython3",
   "version": "3.8.8"
  },
  "orig_nbformat": 4,
  "vscode": {
   "interpreter": {
    "hash": "371c3b81456a2e340b78ca7eb81eb178a34f40b063ccfb5c5659a37e373f5437"
   }
  }
 },
 "nbformat": 4,
 "nbformat_minor": 2
}
